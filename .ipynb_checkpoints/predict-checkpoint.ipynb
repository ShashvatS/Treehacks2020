{
 "cells": [
  {
   "cell_type": "code",
   "execution_count": 1,
   "metadata": {
    "scrolled": true
   },
   "outputs": [],
   "source": [
    "import sys\n",
    "# !conda install --yes --prefix {sys.prefix} scikit-learn\n",
    "# !conda update --yes --prefix {sys.prefix} scikit-learn\n",
    "# !conda install --yes --prefix {sys.prefix} xgboost\n",
    "# !pip3 install xgboost"
   ]
  },
  {
   "cell_type": "code",
   "execution_count": 78,
   "metadata": {},
   "outputs": [
    {
     "name": "stdout",
     "output_type": "stream",
     "text": [
      "0.22.1\n"
     ]
    }
   ],
   "source": [
    "import tensorflow as tf\n",
    "from tensorflow import keras\n",
    "import numpy as np\n",
    "import pandas as pd\n",
    "from tqdm import tqdm\n",
    "import random\n",
    "import sklearn\n",
    "from sklearn.linear_model import Lasso\n",
    "from sklearn.metrics import mean_squared_error\n",
    "from xgboost import XGBRegressor\n",
    "from tensorflow.keras import optimizers\n",
    "print(sklearn.__version__)"
   ]
  },
  {
   "cell_type": "code",
   "execution_count": 3,
   "metadata": {},
   "outputs": [],
   "source": [
    "if tf.test.gpu_device_name():\n",
    "    print('Default GPU Device: {}'.format(tf.test.gpu_device_name()))"
   ]
  },
  {
   "cell_type": "code",
   "execution_count": 4,
   "metadata": {},
   "outputs": [],
   "source": [
    "PREDICT_FORWARD = 261"
   ]
  },
  {
   "cell_type": "code",
   "execution_count": 36,
   "metadata": {},
   "outputs": [],
   "source": [
    "df = pd.read_csv(\"daily_returns4.csv\")\n",
    "df = df.set_index(['TICKER', \"date\"])\n",
    "df.sort_index(inplace = True)"
   ]
  },
  {
   "cell_type": "code",
   "execution_count": 37,
   "metadata": {},
   "outputs": [],
   "source": [
    "revtq = df[\"revtq\"]\n",
    "df = df.drop(columns = [\"revtq\"])\n",
    "revtq = revtq.apply(lambda x: np.log(x + np.exp(1)))\n",
    "df[\"modrevtq\"] = revtq"
   ]
  },
  {
   "cell_type": "code",
   "execution_count": 204,
   "metadata": {},
   "outputs": [
    {
     "data": {
      "text/html": [
       "<div>\n",
       "<style scoped>\n",
       "    .dataframe tbody tr th:only-of-type {\n",
       "        vertical-align: middle;\n",
       "    }\n",
       "\n",
       "    .dataframe tbody tr th {\n",
       "        vertical-align: top;\n",
       "    }\n",
       "\n",
       "    .dataframe thead th {\n",
       "        text-align: right;\n",
       "    }\n",
       "</style>\n",
       "<table border=\"1\" class=\"dataframe\">\n",
       "  <thead>\n",
       "    <tr style=\"text-align: right;\">\n",
       "      <th></th>\n",
       "      <th></th>\n",
       "      <th>PERMNO</th>\n",
       "      <th>BIDLO</th>\n",
       "      <th>ASKHI</th>\n",
       "      <th>PRC</th>\n",
       "      <th>VOL</th>\n",
       "      <th>BID</th>\n",
       "      <th>ASK</th>\n",
       "      <th>OPENPRC</th>\n",
       "      <th>NUMTRD</th>\n",
       "      <th>RETX</th>\n",
       "      <th>...</th>\n",
       "      <th>RET52</th>\n",
       "      <th>RET53</th>\n",
       "      <th>RET54</th>\n",
       "      <th>RET55</th>\n",
       "      <th>RET56</th>\n",
       "      <th>RET57</th>\n",
       "      <th>RET58</th>\n",
       "      <th>RET59</th>\n",
       "      <th>RET60</th>\n",
       "      <th>modrevtq</th>\n",
       "    </tr>\n",
       "    <tr>\n",
       "      <th>TICKER</th>\n",
       "      <th>date</th>\n",
       "      <th></th>\n",
       "      <th></th>\n",
       "      <th></th>\n",
       "      <th></th>\n",
       "      <th></th>\n",
       "      <th></th>\n",
       "      <th></th>\n",
       "      <th></th>\n",
       "      <th></th>\n",
       "      <th></th>\n",
       "      <th></th>\n",
       "      <th></th>\n",
       "      <th></th>\n",
       "      <th></th>\n",
       "      <th></th>\n",
       "      <th></th>\n",
       "      <th></th>\n",
       "      <th></th>\n",
       "      <th></th>\n",
       "      <th></th>\n",
       "      <th></th>\n",
       "    </tr>\n",
       "  </thead>\n",
       "  <tbody>\n",
       "    <tr>\n",
       "      <th rowspan=\"5\" valign=\"top\">ADBE</th>\n",
       "      <th>40</th>\n",
       "      <td>75510.0</td>\n",
       "      <td>39.2900</td>\n",
       "      <td>39.935</td>\n",
       "      <td>39.31</td>\n",
       "      <td>3671897.0</td>\n",
       "      <td>39.30</td>\n",
       "      <td>39.31</td>\n",
       "      <td>39.54</td>\n",
       "      <td>23806.0</td>\n",
       "      <td>-0.007323</td>\n",
       "      <td>...</td>\n",
       "      <td>0.000000</td>\n",
       "      <td>0.000000</td>\n",
       "      <td>0.000000</td>\n",
       "      <td>0.000000</td>\n",
       "      <td>0.000000</td>\n",
       "      <td>0.000000</td>\n",
       "      <td>0.000000</td>\n",
       "      <td>0.000000</td>\n",
       "      <td>0.000000</td>\n",
       "      <td>6.918291</td>\n",
       "    </tr>\n",
       "    <tr>\n",
       "      <th>41</th>\n",
       "      <td>75510.0</td>\n",
       "      <td>38.9600</td>\n",
       "      <td>39.880</td>\n",
       "      <td>39.83</td>\n",
       "      <td>2398125.0</td>\n",
       "      <td>39.83</td>\n",
       "      <td>39.84</td>\n",
       "      <td>39.30</td>\n",
       "      <td>17542.0</td>\n",
       "      <td>0.013228</td>\n",
       "      <td>...</td>\n",
       "      <td>0.000000</td>\n",
       "      <td>0.000000</td>\n",
       "      <td>0.000000</td>\n",
       "      <td>0.000000</td>\n",
       "      <td>0.000000</td>\n",
       "      <td>0.000000</td>\n",
       "      <td>0.000000</td>\n",
       "      <td>0.000000</td>\n",
       "      <td>0.000000</td>\n",
       "      <td>6.918291</td>\n",
       "    </tr>\n",
       "    <tr>\n",
       "      <th>42</th>\n",
       "      <td>75510.0</td>\n",
       "      <td>39.4500</td>\n",
       "      <td>40.470</td>\n",
       "      <td>40.46</td>\n",
       "      <td>2441467.0</td>\n",
       "      <td>40.46</td>\n",
       "      <td>40.47</td>\n",
       "      <td>39.74</td>\n",
       "      <td>16178.0</td>\n",
       "      <td>0.015817</td>\n",
       "      <td>...</td>\n",
       "      <td>0.000000</td>\n",
       "      <td>0.000000</td>\n",
       "      <td>0.000000</td>\n",
       "      <td>0.000000</td>\n",
       "      <td>0.000000</td>\n",
       "      <td>0.000000</td>\n",
       "      <td>0.000000</td>\n",
       "      <td>0.000000</td>\n",
       "      <td>0.000000</td>\n",
       "      <td>6.918291</td>\n",
       "    </tr>\n",
       "    <tr>\n",
       "      <th>43</th>\n",
       "      <td>75510.0</td>\n",
       "      <td>40.6800</td>\n",
       "      <td>41.490</td>\n",
       "      <td>41.46</td>\n",
       "      <td>4309693.0</td>\n",
       "      <td>41.46</td>\n",
       "      <td>41.47</td>\n",
       "      <td>40.76</td>\n",
       "      <td>27325.0</td>\n",
       "      <td>0.024716</td>\n",
       "      <td>...</td>\n",
       "      <td>0.000000</td>\n",
       "      <td>0.000000</td>\n",
       "      <td>0.000000</td>\n",
       "      <td>0.000000</td>\n",
       "      <td>0.000000</td>\n",
       "      <td>0.000000</td>\n",
       "      <td>0.000000</td>\n",
       "      <td>0.000000</td>\n",
       "      <td>0.000000</td>\n",
       "      <td>6.918291</td>\n",
       "    </tr>\n",
       "    <tr>\n",
       "      <th>44</th>\n",
       "      <td>75510.0</td>\n",
       "      <td>41.1300</td>\n",
       "      <td>41.770</td>\n",
       "      <td>41.29</td>\n",
       "      <td>2878263.0</td>\n",
       "      <td>41.28</td>\n",
       "      <td>41.29</td>\n",
       "      <td>41.47</td>\n",
       "      <td>20295.0</td>\n",
       "      <td>-0.004100</td>\n",
       "      <td>...</td>\n",
       "      <td>0.000000</td>\n",
       "      <td>0.000000</td>\n",
       "      <td>0.000000</td>\n",
       "      <td>0.000000</td>\n",
       "      <td>0.000000</td>\n",
       "      <td>0.000000</td>\n",
       "      <td>0.000000</td>\n",
       "      <td>0.000000</td>\n",
       "      <td>0.000000</td>\n",
       "      <td>6.918291</td>\n",
       "    </tr>\n",
       "    <tr>\n",
       "      <th>...</th>\n",
       "      <th>...</th>\n",
       "      <td>...</td>\n",
       "      <td>...</td>\n",
       "      <td>...</td>\n",
       "      <td>...</td>\n",
       "      <td>...</td>\n",
       "      <td>...</td>\n",
       "      <td>...</td>\n",
       "      <td>...</td>\n",
       "      <td>...</td>\n",
       "      <td>...</td>\n",
       "      <td>...</td>\n",
       "      <td>...</td>\n",
       "      <td>...</td>\n",
       "      <td>...</td>\n",
       "      <td>...</td>\n",
       "      <td>...</td>\n",
       "      <td>...</td>\n",
       "      <td>...</td>\n",
       "      <td>...</td>\n",
       "      <td>...</td>\n",
       "      <td>...</td>\n",
       "    </tr>\n",
       "    <tr>\n",
       "      <th rowspan=\"5\" valign=\"top\">ZUO</th>\n",
       "      <th>1506</th>\n",
       "      <td>17382.0</td>\n",
       "      <td>15.5600</td>\n",
       "      <td>16.850</td>\n",
       "      <td>16.36</td>\n",
       "      <td>550036.0</td>\n",
       "      <td>16.37</td>\n",
       "      <td>16.39</td>\n",
       "      <td>15.67</td>\n",
       "      <td>NaN</td>\n",
       "      <td>0.017413</td>\n",
       "      <td>...</td>\n",
       "      <td>-0.014544</td>\n",
       "      <td>-0.057656</td>\n",
       "      <td>-0.007505</td>\n",
       "      <td>0.010427</td>\n",
       "      <td>-0.000474</td>\n",
       "      <td>-0.016768</td>\n",
       "      <td>-0.070965</td>\n",
       "      <td>0.009611</td>\n",
       "      <td>0.020508</td>\n",
       "      <td>4.160043</td>\n",
       "    </tr>\n",
       "    <tr>\n",
       "      <th>1507</th>\n",
       "      <td>17382.0</td>\n",
       "      <td>16.3700</td>\n",
       "      <td>17.820</td>\n",
       "      <td>17.81</td>\n",
       "      <td>1092333.0</td>\n",
       "      <td>17.80</td>\n",
       "      <td>17.81</td>\n",
       "      <td>16.68</td>\n",
       "      <td>NaN</td>\n",
       "      <td>0.088631</td>\n",
       "      <td>...</td>\n",
       "      <td>-0.058015</td>\n",
       "      <td>-0.014544</td>\n",
       "      <td>-0.057656</td>\n",
       "      <td>-0.007505</td>\n",
       "      <td>0.010427</td>\n",
       "      <td>-0.000474</td>\n",
       "      <td>-0.016768</td>\n",
       "      <td>-0.070965</td>\n",
       "      <td>0.009611</td>\n",
       "      <td>4.160043</td>\n",
       "    </tr>\n",
       "    <tr>\n",
       "      <th>1508</th>\n",
       "      <td>17382.0</td>\n",
       "      <td>16.6200</td>\n",
       "      <td>17.920</td>\n",
       "      <td>17.90</td>\n",
       "      <td>1011304.0</td>\n",
       "      <td>17.90</td>\n",
       "      <td>17.91</td>\n",
       "      <td>17.31</td>\n",
       "      <td>NaN</td>\n",
       "      <td>0.005053</td>\n",
       "      <td>...</td>\n",
       "      <td>-0.036737</td>\n",
       "      <td>-0.058015</td>\n",
       "      <td>-0.014544</td>\n",
       "      <td>-0.057656</td>\n",
       "      <td>-0.007505</td>\n",
       "      <td>0.010427</td>\n",
       "      <td>-0.000474</td>\n",
       "      <td>-0.016768</td>\n",
       "      <td>-0.070965</td>\n",
       "      <td>4.160043</td>\n",
       "    </tr>\n",
       "    <tr>\n",
       "      <th>1509</th>\n",
       "      <td>17382.0</td>\n",
       "      <td>17.4100</td>\n",
       "      <td>18.160</td>\n",
       "      <td>17.65</td>\n",
       "      <td>1141001.0</td>\n",
       "      <td>17.65</td>\n",
       "      <td>17.66</td>\n",
       "      <td>17.94</td>\n",
       "      <td>NaN</td>\n",
       "      <td>-0.013966</td>\n",
       "      <td>...</td>\n",
       "      <td>0.015143</td>\n",
       "      <td>-0.036737</td>\n",
       "      <td>-0.058015</td>\n",
       "      <td>-0.014544</td>\n",
       "      <td>-0.057656</td>\n",
       "      <td>-0.007505</td>\n",
       "      <td>0.010427</td>\n",
       "      <td>-0.000474</td>\n",
       "      <td>-0.016768</td>\n",
       "      <td>4.160043</td>\n",
       "    </tr>\n",
       "    <tr>\n",
       "      <th>1510</th>\n",
       "      <td>17382.0</td>\n",
       "      <td>17.7601</td>\n",
       "      <td>18.150</td>\n",
       "      <td>18.14</td>\n",
       "      <td>1125526.0</td>\n",
       "      <td>18.13</td>\n",
       "      <td>18.14</td>\n",
       "      <td>17.95</td>\n",
       "      <td>NaN</td>\n",
       "      <td>0.027762</td>\n",
       "      <td>...</td>\n",
       "      <td>0.093370</td>\n",
       "      <td>0.015143</td>\n",
       "      <td>-0.036737</td>\n",
       "      <td>-0.058015</td>\n",
       "      <td>-0.014544</td>\n",
       "      <td>-0.057656</td>\n",
       "      <td>-0.007505</td>\n",
       "      <td>0.010427</td>\n",
       "      <td>-0.000474</td>\n",
       "      <td>4.160043</td>\n",
       "    </tr>\n",
       "  </tbody>\n",
       "</table>\n",
       "<p>72563 rows × 97 columns</p>\n",
       "</div>"
      ],
      "text/plain": [
       "              PERMNO    BIDLO   ASKHI    PRC        VOL    BID    ASK  \\\n",
       "TICKER date                                                             \n",
       "ADBE   40    75510.0  39.2900  39.935  39.31  3671897.0  39.30  39.31   \n",
       "       41    75510.0  38.9600  39.880  39.83  2398125.0  39.83  39.84   \n",
       "       42    75510.0  39.4500  40.470  40.46  2441467.0  40.46  40.47   \n",
       "       43    75510.0  40.6800  41.490  41.46  4309693.0  41.46  41.47   \n",
       "       44    75510.0  41.1300  41.770  41.29  2878263.0  41.28  41.29   \n",
       "...              ...      ...     ...    ...        ...    ...    ...   \n",
       "ZUO    1506  17382.0  15.5600  16.850  16.36   550036.0  16.37  16.39   \n",
       "       1507  17382.0  16.3700  17.820  17.81  1092333.0  17.80  17.81   \n",
       "       1508  17382.0  16.6200  17.920  17.90  1011304.0  17.90  17.91   \n",
       "       1509  17382.0  17.4100  18.160  17.65  1141001.0  17.65  17.66   \n",
       "       1510  17382.0  17.7601  18.150  18.14  1125526.0  18.13  18.14   \n",
       "\n",
       "             OPENPRC   NUMTRD      RETX  ...     RET52     RET53     RET54  \\\n",
       "TICKER date                              ...                                 \n",
       "ADBE   40      39.54  23806.0 -0.007323  ...  0.000000  0.000000  0.000000   \n",
       "       41      39.30  17542.0  0.013228  ...  0.000000  0.000000  0.000000   \n",
       "       42      39.74  16178.0  0.015817  ...  0.000000  0.000000  0.000000   \n",
       "       43      40.76  27325.0  0.024716  ...  0.000000  0.000000  0.000000   \n",
       "       44      41.47  20295.0 -0.004100  ...  0.000000  0.000000  0.000000   \n",
       "...              ...      ...       ...  ...       ...       ...       ...   \n",
       "ZUO    1506    15.67      NaN  0.017413  ... -0.014544 -0.057656 -0.007505   \n",
       "       1507    16.68      NaN  0.088631  ... -0.058015 -0.014544 -0.057656   \n",
       "       1508    17.31      NaN  0.005053  ... -0.036737 -0.058015 -0.014544   \n",
       "       1509    17.94      NaN -0.013966  ...  0.015143 -0.036737 -0.058015   \n",
       "       1510    17.95      NaN  0.027762  ...  0.093370  0.015143 -0.036737   \n",
       "\n",
       "                RET55     RET56     RET57     RET58     RET59     RET60  \\\n",
       "TICKER date                                                               \n",
       "ADBE   40    0.000000  0.000000  0.000000  0.000000  0.000000  0.000000   \n",
       "       41    0.000000  0.000000  0.000000  0.000000  0.000000  0.000000   \n",
       "       42    0.000000  0.000000  0.000000  0.000000  0.000000  0.000000   \n",
       "       43    0.000000  0.000000  0.000000  0.000000  0.000000  0.000000   \n",
       "       44    0.000000  0.000000  0.000000  0.000000  0.000000  0.000000   \n",
       "...               ...       ...       ...       ...       ...       ...   \n",
       "ZUO    1506  0.010427 -0.000474 -0.016768 -0.070965  0.009611  0.020508   \n",
       "       1507 -0.007505  0.010427 -0.000474 -0.016768 -0.070965  0.009611   \n",
       "       1508 -0.057656 -0.007505  0.010427 -0.000474 -0.016768 -0.070965   \n",
       "       1509 -0.014544 -0.057656 -0.007505  0.010427 -0.000474 -0.016768   \n",
       "       1510 -0.058015 -0.014544 -0.057656 -0.007505  0.010427 -0.000474   \n",
       "\n",
       "             modrevtq  \n",
       "TICKER date            \n",
       "ADBE   40    6.918291  \n",
       "       41    6.918291  \n",
       "       42    6.918291  \n",
       "       43    6.918291  \n",
       "       44    6.918291  \n",
       "...               ...  \n",
       "ZUO    1506  4.160043  \n",
       "       1507  4.160043  \n",
       "       1508  4.160043  \n",
       "       1509  4.160043  \n",
       "       1510  4.160043  \n",
       "\n",
       "[72563 rows x 97 columns]"
      ]
     },
     "execution_count": 204,
     "metadata": {},
     "output_type": "execute_result"
    }
   ],
   "source": [
    "df"
   ]
  },
  {
   "cell_type": "code",
   "execution_count": 39,
   "metadata": {},
   "outputs": [
    {
     "data": {
      "text/plain": [
       "Index(['PERMNO', 'BIDLO', 'ASKHI', 'PRC', 'VOL', 'BID', 'ASK', 'OPENPRC',\n",
       "       'NUMTRD', 'RETX', 'gvkey', 'fyearq', 'actq', 'ancq', 'aoq', 'atq',\n",
       "       'aul3q', 'ceqq', 'cheq', 'chq', 'cogsq', 'cshiq', 'cshoq', 'dpq',\n",
       "       'drcq', 'drltq', 'lctq', 'ltq', 'rdipq', 'stkcpay', 'teqq', 'tfvaq',\n",
       "       'tfvlq', 'xrdq', 'xsgaq', 'RET0', 'RET1', 'RET2', 'RET3', 'RET4',\n",
       "       'RET5', 'RET6', 'RET7', 'RET8', 'RET9', 'RET10', 'RET11', 'RET12',\n",
       "       'RET13', 'RET14', 'RET15', 'RET16', 'RET17', 'RET18', 'RET19', 'RET20',\n",
       "       'RET21', 'RET22', 'RET23', 'RET24', 'RET25', 'RET26', 'RET27', 'RET28',\n",
       "       'RET29', 'RET30', 'RET31', 'RET32', 'RET33', 'RET34', 'RET35', 'RET36',\n",
       "       'RET37', 'RET38', 'RET39', 'RET40', 'RET41', 'RET42', 'RET43', 'RET44',\n",
       "       'RET45', 'RET46', 'RET47', 'RET48', 'RET49', 'RET50', 'RET51', 'RET52',\n",
       "       'RET53', 'RET54', 'RET55', 'RET56', 'RET57', 'RET58', 'RET59', 'RET60',\n",
       "       'modrevtq'],\n",
       "      dtype='object')"
      ]
     },
     "execution_count": 39,
     "metadata": {},
     "output_type": "execute_result"
    }
   ],
   "source": [
    "df.columns"
   ]
  },
  {
   "cell_type": "code",
   "execution_count": 40,
   "metadata": {},
   "outputs": [
    {
     "name": "stdout",
     "output_type": "stream",
     "text": [
      "67\n"
     ]
    }
   ],
   "source": [
    "s = set([])\n",
    "for row in df.iterrows():\n",
    "    idx = row[0]\n",
    "    date = idx[1]\n",
    "    \n",
    "    if (idx[0], idx[1] + PREDICT_FORWARD) in df.index:\n",
    "        s.add(idx[0])\n",
    "        \n",
    "print(len(s))  "
   ]
  },
  {
   "cell_type": "code",
   "execution_count": 41,
   "metadata": {},
   "outputs": [
    {
     "name": "stdout",
     "output_type": "stream",
     "text": [
      "['MDB', 'ZEN', 'ADSK', 'CLDR', 'NOW', 'INTU', 'TEAM', 'BLKB', 'QTWO', 'MIME', 'ADBE', 'EXPE', 'LOGM', 'BAND', 'SPLK', 'MTCH', 'RP', 'RNG', 'ETSY', 'GWRE', 'PAYC', 'WDAY', 'COUP', 'JCOM', 'TDOC', 'NFLX', 'PFPT', 'NEWR', 'WK', 'CRM', 'PYPL', 'TTD', 'WIX', 'YEXT', 'QLYS', 'FIVN', 'VEEV', 'INST', 'RPD', 'TWOU', 'SSTK', 'EVBG', 'TLND', 'BKI', 'SHOP', 'SWI', 'TRIP', 'FEYE', 'EGHT', 'CHKP', 'EBAY', 'APPF', 'PCTY']\n",
      "['AMZN', 'SQ', 'OKTA', 'BOX', 'NTNX', 'AYX', 'FB', 'SAIL', 'APPN', 'GDDY', 'PANW', 'BL', 'HUBS', 'TWLO']\n"
     ]
    }
   ],
   "source": [
    "s = list(s)\n",
    "np.random.shuffle(s)\n",
    "train = s[:4 * len(s) // 5]\n",
    "test = s[4 * len(s) // 5:]\n",
    "s = set(s)\n",
    "print(train)\n",
    "print(test)"
   ]
  },
  {
   "cell_type": "code",
   "execution_count": 146,
   "metadata": {},
   "outputs": [
    {
     "name": "stderr",
     "output_type": "stream",
     "text": [
      "72563it [00:08, 8070.26it/s]\n"
     ]
    }
   ],
   "source": [
    "X = [[], []]\n",
    "Y = [[], []]\n",
    "\n",
    "for row in tqdm(df.iterrows()):\n",
    "    idx = row[0]\n",
    "    \n",
    "    train_test = -1\n",
    "    if idx[0] in train:\n",
    "        train_test = 0\n",
    "    elif idx[0] in test:\n",
    "        train_test = 1\n",
    "    else:\n",
    "        continue\n",
    "        \n",
    "    nxtidx = (idx[0], idx[1] + PREDICT_FORWARD)\n",
    "    if nxtidx in df.index:\n",
    "        Y[train_test].append(df.at[nxtidx, \"modrevtq\"] - row[1][\"modrevtq\"])\n",
    "        x = np.asarray(row[1], dtype='float64')\n",
    "        x = np.nan_to_num(x)\n",
    "        X[train_test].append(x)\n",
    "        \n",
    "for i in range(2):\n",
    "    X[i] = np.asarray(X[i])\n",
    "    Y[i] = np.asarray(Y[i])\n",
    "    Y[i] = Y[i].reshape((Y[i].shape[0], 1))\n",
    "    \n",
    "    Z = np.hstack((X[i], Y[i]))\n",
    "    np.random.shuffle(Z)\n",
    "    \n",
    "    X[i] = Z[:, :Z.shape[1] - 1]\n",
    "    Y[i] = Z[:, Z.shape[1] - 1]"
   ]
  },
  {
   "cell_type": "code",
   "execution_count": 147,
   "metadata": {},
   "outputs": [
    {
     "name": "stdout",
     "output_type": "stream",
     "text": [
      "(44671, 97) (7832, 97) (44671,) (7832,)\n"
     ]
    }
   ],
   "source": [
    "print(X[0].shape, X[1].shape, Y[0].shape, Y[1].shape)"
   ]
  },
  {
   "cell_type": "code",
   "execution_count": null,
   "metadata": {},
   "outputs": [],
   "source": []
  },
  {
   "cell_type": "code",
   "execution_count": 161,
   "metadata": {},
   "outputs": [
    {
     "name": "stdout",
     "output_type": "stream",
     "text": [
      "2.868098547322181\n",
      "5.365433567968905\n"
     ]
    }
   ],
   "source": [
    "# trivial\n",
    "for i in range(2):\n",
    "    print(np.exp(np.sqrt(mean_squared_error(np.array([0] * Y[i].shape[0]), Y[i]))))"
   ]
  },
  {
   "cell_type": "code",
   "execution_count": 166,
   "metadata": {},
   "outputs": [
    {
     "name": "stderr",
     "output_type": "stream",
     "text": [
      "/home/shashvat/anaconda3/lib/python3.7/site-packages/xgboost/core.py:613: UserWarning: Use subset (sliced data) of np.ndarray is not recommended because it will generate extra copies and increase memory consumption\n",
      "  warnings.warn(\"Use subset (sliced data) of np.ndarray is not recommended \" +\n"
     ]
    },
    {
     "data": {
      "text/plain": [
       "XGBRegressor(base_score=0.5, booster='gbtree', colsample_bylevel=1,\n",
       "             colsample_bynode=1, colsample_bytree=1, gamma=0,\n",
       "             importance_type='gain', learning_rate=0.1, max_delta_step=0,\n",
       "             max_depth=3, min_child_weight=1, missing=None, n_estimators=100,\n",
       "             n_jobs=1, nthread=None, objective='reg:squarederror',\n",
       "             random_state=0, reg_alpha=0, reg_lambda=1, scale_pos_weight=1,\n",
       "             seed=None, silent=None, subsample=1, verbosity=1)"
      ]
     },
     "execution_count": 166,
     "metadata": {},
     "output_type": "execute_result"
    }
   ],
   "source": [
    "xgbmodel = XGBRegressor(objective='reg:squarederror')\n",
    "xgbmodel.fit(X[0], Y[0])"
   ]
  },
  {
   "cell_type": "code",
   "execution_count": 167,
   "metadata": {},
   "outputs": [
    {
     "name": "stdout",
     "output_type": "stream",
     "text": [
      "0.5835737419735934\n",
      "2.146674679252995\n"
     ]
    }
   ],
   "source": [
    "print(mean_squared_error(xgbmodel.predict(X[1]), Y[1]))\n",
    "print(np.exp(np.sqrt(mean_squared_error(xgbmodel.predict(X[1]), Y[1]))))"
   ]
  },
  {
   "cell_type": "code",
   "execution_count": 168,
   "metadata": {},
   "outputs": [
    {
     "data": {
      "text/plain": [
       "(array([ 0.05905676,  0.28312236,  2.8711655 , ..., -0.5299263 ,\n",
       "         0.28312236,  0.05168205], dtype=float32),\n",
       " array([0.18331014, 0.39128978, 2.79995744, ..., 0.22180928, 0.39128978,\n",
       "        0.36927089]))"
      ]
     },
     "execution_count": 168,
     "metadata": {},
     "output_type": "execute_result"
    }
   ],
   "source": [
    "xgbmodel.predict(X[1]), Y[1]"
   ]
  },
  {
   "cell_type": "code",
   "execution_count": 152,
   "metadata": {},
   "outputs": [
    {
     "data": {
      "text/plain": [
       "5.365433567968905"
      ]
     },
     "execution_count": 152,
     "metadata": {},
     "output_type": "execute_result"
    }
   ],
   "source": []
  },
  {
   "cell_type": "code",
   "execution_count": 169,
   "metadata": {},
   "outputs": [
    {
     "data": {
      "text/plain": [
       "Lasso(alpha=1.0, copy_X=True, fit_intercept=True, max_iter=1000, normalize=True,\n",
       "      positive=False, precompute=False, random_state=None, selection='cyclic',\n",
       "      tol=0.0001, warm_start=False)"
      ]
     },
     "execution_count": 169,
     "metadata": {},
     "output_type": "execute_result"
    }
   ],
   "source": [
    "lasso_reg = Lasso(normalize=True)\n",
    "lasso_reg.fit(X[0],Y[0])"
   ]
  },
  {
   "cell_type": "code",
   "execution_count": 170,
   "metadata": {},
   "outputs": [
    {
     "name": "stdout",
     "output_type": "stream",
     "text": [
      "[0.93405271 2.4463077 ]\n",
      "[2.62863323 4.77821802]\n"
     ]
    }
   ],
   "source": [
    "a = np.array([mean_squared_error(lasso_reg.predict(X[0]), Y[0]), \n",
    "              mean_squared_error(lasso_reg.predict(X[1]), Y[1])])\n",
    "\n",
    "print(a)\n",
    "print(np.exp(np.sqrt(a)))"
   ]
  },
  {
   "cell_type": "code",
   "execution_count": 29,
   "metadata": {},
   "outputs": [
    {
     "name": "stderr",
     "output_type": "stream",
     "text": [
      "72563it [00:07, 9076.47it/s] \n"
     ]
    }
   ],
   "source": []
  },
  {
   "cell_type": "code",
   "execution_count": 182,
   "metadata": {},
   "outputs": [],
   "source": [
    "model = keras.Sequential([\n",
    "    keras.layers.Dense(X[0].shape[1], activation = 'tanh'),\n",
    "#     keras.layers.Dropout(0.1),\n",
    "    keras.layers.Dense(X[0].shape[1], activation = 'tanh'),\n",
    "#     keras.layers.Dropout(0.1),\n",
    "    keras.layers.Dense(X[0].shape[1], activation = 'tanh'),\n",
    "#     keras.layers.Dropout(0.1),\n",
    "    keras.layers.Dense(100, activation = 'tanh'),\n",
    "#     keras.layers.Dropout(0.1),\n",
    "    keras.layers.Dense(1, activation = 'tanh')\n",
    "])"
   ]
  },
  {
   "cell_type": "code",
   "execution_count": null,
   "metadata": {},
   "outputs": [],
   "source": []
  },
  {
   "cell_type": "code",
   "execution_count": 183,
   "metadata": {},
   "outputs": [],
   "source": [
    "model.compile(optimizer='adam',\n",
    "              loss = keras.losses.mean_squared_error)\n",
    "# sgd = optimizers.SGD(lr=0.01, clipnorm=1.)\n",
    "model.compile(optimizer=sgd,\n",
    "              loss = keras.losses.mean_squared_error)"
   ]
  },
  {
   "cell_type": "code",
   "execution_count": 184,
   "metadata": {
    "scrolled": true
   },
   "outputs": [
    {
     "name": "stdout",
     "output_type": "stream",
     "text": [
      "Train on 44671 samples\n",
      "Epoch 1/10\n",
      "44671/44671 [==============================] - 4s 89us/sample - loss: 0.9309\n",
      "Epoch 2/10\n",
      "44671/44671 [==============================] - 4s 87us/sample - loss: 0.9261\n",
      "Epoch 3/10\n",
      "44671/44671 [==============================] - 4s 87us/sample - loss: 0.9227\n",
      "Epoch 4/10\n",
      "44671/44671 [==============================] - 4s 87us/sample - loss: 0.9200\n",
      "Epoch 5/10\n",
      "44671/44671 [==============================] - 4s 88us/sample - loss: 0.92170s - loss: 0\n",
      "Epoch 6/10\n",
      "44671/44671 [==============================] - 4s 87us/sample - loss: 0.9209\n",
      "Epoch 7/10\n",
      "44671/44671 [==============================] - 4s 88us/sample - loss: 0.9205\n",
      "Epoch 8/10\n",
      "44671/44671 [==============================] - 4s 89us/sample - loss: 0.9172\n",
      "Epoch 9/10\n",
      "44671/44671 [==============================] - 4s 88us/sample - loss: 0.9084\n",
      "Epoch 10/10\n",
      "44671/44671 [==============================] - 4s 90us/sample - loss: 0.9009\n"
     ]
    },
    {
     "data": {
      "text/plain": [
       "<tensorflow.python.keras.callbacks.History at 0x7fdc8f0d7198>"
      ]
     },
     "execution_count": 184,
     "metadata": {},
     "output_type": "execute_result"
    }
   ],
   "source": [
    "model.fit(X[0], Y[0], batch_size = 10, epochs=10)"
   ]
  },
  {
   "cell_type": "code",
   "execution_count": 185,
   "metadata": {},
   "outputs": [
    {
     "name": "stdout",
     "output_type": "stream",
     "text": [
      "7832/1 - 0s - loss: 1.2880\n",
      "2.389865406884967\n"
     ]
    }
   ],
   "source": [
    "print(model.evaluate(X[1],  Y[1], verbose=2))"
   ]
  },
  {
   "cell_type": "code",
   "execution_count": 186,
   "metadata": {
    "scrolled": true
   },
   "outputs": [
    {
     "name": "stdout",
     "output_type": "stream",
     "text": [
      "0.2710839532226075 [[0.6465598]]\n",
      "0.055192371755736325 [[0.6465598]]\n",
      "0.3600925985079213 [[0.6465598]]\n",
      "0.40020694330923057 [[0.6465598]]\n",
      "0.3047630178791705 [[0.6465598]]\n",
      "0.3600925985079213 [[0.6465598]]\n",
      "0.1950838799939998 [[0.6465598]]\n",
      "2.7999574350130296 [[0.6465598]]\n",
      "2.7999574350130296 [[0.6465598]]\n",
      "0.3978033131613863 [[0.6465598]]\n",
      "0.28349736777599954 [[0.6465598]]\n",
      "0.0 [[0.6465598]]\n",
      "0.254018137541828 [[0.6465598]]\n",
      "0.43506893922257106 [[0.6465598]]\n",
      "0.2561143712956495 [[0.6465598]]\n",
      "0.19998970000194216 [[0.6465598]]\n",
      "0.37485830958091704 [[0.6465598]]\n",
      "0.46296886863383957 [[0.6465598]]\n",
      "0.39128977801250375 [[0.6465598]]\n",
      "0.10353264945262541 [[0.6465598]]\n",
      "0.22795312810465518 [[0.6465598]]\n",
      "0.2720928109516523 [[0.6465598]]\n",
      "0.12072737617631812 [[0.6465598]]\n",
      "2.7999574350130296 [[0.6465598]]\n",
      "0.0 [[0.6465598]]\n",
      "0.39128977801250375 [[0.6465598]]\n",
      "0.3203696971606709 [[0.6465598]]\n",
      "0.45986125004279366 [[0.6465598]]\n",
      "0.18331014224815512 [[0.6465598]]\n",
      "0.3184046508652649 [[0.6465598]]\n",
      "0.0 [[0.6465598]]\n",
      "0.4111861908377308 [[0.6465598]]\n",
      "0.28469352062442255 [[0.6465598]]\n",
      "0.254018137541828 [[0.6465598]]\n",
      "0.2710839532226075 [[0.6465598]]\n",
      "0.20884682085172912 [[0.6465598]]\n",
      "0.0 [[0.6465598]]\n",
      "0.19787292316010507 [[0.6465598]]\n",
      "0.19998970000194216 [[0.6465598]]\n",
      "0.14878956921604036 [[0.6465598]]\n",
      "0.45986125004279366 [[0.6465598]]\n",
      "0.22507523903516446 [[0.6465598]]\n",
      "0.22507523903516446 [[0.6465598]]\n",
      "0.19998970000194216 [[0.6465598]]\n",
      "2.9205521650830613 [[0.6465598]]\n",
      "0.18250069945688274 [[0.6465598]]\n",
      "0.22795312810465518 [[0.6465598]]\n",
      "0.45986125004279366 [[0.6465598]]\n",
      "0.28349736777599954 [[0.6465598]]\n",
      "0.2485600342626082 [[0.6465598]]\n",
      "0.0 [[0.6465598]]\n",
      "0.0 [[0.6465598]]\n",
      "3.4582846721457727 [[0.6465598]]\n",
      "0.28349736777599954 [[0.6465598]]\n",
      "0.055192371755736325 [[0.6465598]]\n",
      "0.22507523903516446 [[0.6465598]]\n",
      "0.2561143712956495 [[0.6465598]]\n",
      "1.2247648313908361 [[0.6465598]]\n",
      "0.2561143712956495 [[0.6465598]]\n",
      "0.3184046508652649 [[0.6465598]]\n",
      "0.3203696971606709 [[0.6465598]]\n",
      "0.2546847571104589 [[0.6465598]]\n",
      "0.14878956921604036 [[0.6465598]]\n",
      "0.0 [[0.6465598]]\n",
      "0.3600925985079213 [[0.6465598]]\n",
      "0.3741077816920044 [[0.6465598]]\n",
      "0.3047630178791705 [[0.6465598]]\n",
      "0.3047630178791705 [[0.6465598]]\n",
      "0.39128977801250375 [[0.6465598]]\n",
      "0.2710839532226075 [[0.6465598]]\n",
      "0.0 [[0.6465598]]\n",
      "0.0 [[0.6465598]]\n",
      "0.28349736777599954 [[0.6465598]]\n",
      "2.7999574350130296 [[0.6465598]]\n",
      "0.2485600342626082 [[0.6465598]]\n",
      "0.22689080613776458 [[0.6465598]]\n",
      "0.0 [[0.6465598]]\n",
      "0.28349736777599954 [[0.6465598]]\n",
      "0.06085398506938766 [[0.6465598]]\n",
      "0.10353264945262541 [[0.6465598]]\n",
      "0.0 [[0.6465598]]\n",
      "3.4582846721457727 [[0.6465598]]\n",
      "0.39128977801250375 [[0.6465598]]\n",
      "0.3721803269320656 [[0.6465598]]\n",
      "0.46296886863383957 [[0.6465598]]\n",
      "0.0 [[0.6465598]]\n",
      "0.2561143712956495 [[0.6465598]]\n",
      "0.22507523903516446 [[0.6465598]]\n",
      "0.43506893922257106 [[0.6465598]]\n",
      "0.3741077816920044 [[0.6465598]]\n",
      "0.39128977801250375 [[0.6465598]]\n",
      "0.3047630178791705 [[0.6465598]]\n",
      "0.22507523903516446 [[0.6465598]]\n",
      "0.0 [[0.6465598]]\n",
      "0.28349736777599954 [[0.6465598]]\n",
      "0.3692708938102873 [[0.6465598]]\n",
      "0.14878956921604036 [[0.6465598]]\n",
      "0.39128977801250375 [[0.6465598]]\n",
      "0.19787292316010507 [[0.6465598]]\n",
      "0.39128977801250375 [[0.6465598]]\n"
     ]
    }
   ],
   "source": [
    "for i in range(100):\n",
    "    r = random.randrange(0, X[1].shape[1])\n",
    "    x, y = X[1][[r]], Y[1][[r]]\n",
    "    print(y[0], model.predict(x))"
   ]
  },
  {
   "cell_type": "code",
   "execution_count": null,
   "metadata": {},
   "outputs": [],
   "source": []
  },
  {
   "cell_type": "code",
   "execution_count": 190,
   "metadata": {},
   "outputs": [
    {
     "data": {
      "text/plain": [
       "XGBRegressor(base_score=0.5, booster='gbtree', colsample_bylevel=1,\n",
       "             colsample_bynode=1, colsample_bytree=1, gamma=0,\n",
       "             importance_type='gain', learning_rate=0.1, max_delta_step=0,\n",
       "             max_depth=3, min_child_weight=1, missing=None, n_estimators=500,\n",
       "             n_jobs=1, nthread=None, objective='reg:squarederror',\n",
       "             random_state=0, reg_alpha=0, reg_lambda=1, scale_pos_weight=1,\n",
       "             seed=None, silent=None, subsample=1, verbosity=1)"
      ]
     },
     "execution_count": 190,
     "metadata": {},
     "output_type": "execute_result"
    }
   ],
   "source": [
    "xgbmodel2 = XGBRegressor(objective='reg:squarederror', n_estimators = 500)\n",
    "xgbmodel2.fit(X[0], Y[0])"
   ]
  },
  {
   "cell_type": "code",
   "execution_count": 191,
   "metadata": {},
   "outputs": [
    {
     "name": "stdout",
     "output_type": "stream",
     "text": [
      "0.5768220358322514\n",
      "2.1371817225514507\n"
     ]
    }
   ],
   "source": [
    "print(mean_squared_error(xgbmodel2.predict(X[1]), Y[1]))\n",
    "print(np.exp(np.sqrt(mean_squared_error(xgbmodel2.predict(X[1]), Y[1]))))"
   ]
  },
  {
   "cell_type": "code",
   "execution_count": null,
   "metadata": {},
   "outputs": [],
   "source": []
  },
  {
   "cell_type": "code",
   "execution_count": 210,
   "metadata": {
    "scrolled": true
   },
   "outputs": [
    {
     "name": "stdout",
     "output_type": "stream",
     "text": [
      "[289.413] [227.56830976] [1.27176319]\n",
      "[89.093] [80.21636512] [1.11065865]\n",
      "[461.554] [460.23871424] [1.00285783]\n",
      "[9321.] [4064.01519064] [2.29354458]\n",
      "[9321.] [4058.11052219] [2.29688175]\n",
      "[9321.] [4058.11052219] [2.29688175]\n",
      "[658.5] [597.88949435] [1.10137409]\n",
      "[37955.] [20406.74129211] [1.85992459]\n",
      "[283.879] [273.17912381] [1.03916799]\n",
      "[83.621] [43.52422785] [1.92125177]\n",
      "[461.554] [460.23871424] [1.00285783]\n",
      "[148.222] [128.12132439] [1.15688782]\n",
      "[73.45] [23.52600413] [3.12207715]\n",
      "[94.586] [70.80751196] [1.33581872]\n",
      "[89.093] [80.21636512] [1.11065865]\n",
      "[275.552] [227.21385422] [1.21274295]\n",
      "[283.879] [256.15397396] [1.10823578]\n",
      "[658.5] [594.98212057] [1.10675595]\n",
      "[89.093] [97.08574886] [0.9176733]\n",
      "[47.71] [72.80020891] [0.65535526]\n",
      "[37955.] [21551.64936838] [1.76111811]\n",
      "[43.198] [50.95179182] [0.84782102]\n",
      "[41.981] [44.82462145] [0.93656117]\n",
      "[557.8] [439.69467345] [1.26860759]\n",
      "[95.87] [106.0593735] [0.90392765]\n",
      "[82.252] [72.30742577] [1.13753185]\n",
      "[8032.] [4033.4927227] [1.99132627]\n",
      "[461.554] [450.76284489] [1.02393976]\n",
      "[551.505] [500.63926873] [1.10160156]\n",
      "[37955.] [21551.64936838] [1.76111811]\n",
      "[658.5] [594.98212057] [1.10675595]\n",
      "[501.8] [448.1047746] [1.11982739]\n",
      "[30404.] [12565.16836912] [2.41970494]\n",
      "[557.8] [715.311482] [0.77980015]\n",
      "[43.198] [53.68628326] [0.80463756]\n",
      "[30.319] [36.91399703] [0.82134156]\n",
      "[89.093] [72.65898767] [1.22618003]\n",
      "[148.222] [128.26831393] [1.15556208]\n",
      "[439.002] [452.33037212] [0.97053399]\n",
      "[35747.] [16106.30122911] [2.21944191]\n",
      "[461.554] [454.47464044] [1.01557702]\n",
      "[30404.] [12565.16836912] [2.41970494]\n",
      "[82.252] [72.30742577] [1.13753185]\n",
      "[433.7] [39.78369468] [10.90145105]\n",
      "[9321.] [4064.01519064] [2.29354458]\n",
      "[461.554] [460.23871424] [1.00285783]\n",
      "[658.5] [594.98212057] [1.10675595]\n",
      "[461.554] [450.76284489] [1.02393976]\n",
      "[3203.] [2456.22978491] [1.30403109]\n",
      "[23184.] [9924.23400791] [2.33609969]\n",
      "[94.586] [70.80751196] [1.33581872]\n",
      "[41.981] [49.46878853] [0.8486361]\n",
      "[35747.] [16106.30122911] [2.21944191]\n",
      "[3203.] [2456.22978491] [1.30403109]\n",
      "[275.552] [227.21385422] [1.21274295]\n",
      "[41.981] [44.18346337] [0.95015186]\n",
      "[29329.] [14544.8139498] [2.01645756]\n",
      "[557.8] [439.69467345] [1.26860759]\n",
      "[283.879] [256.15397396] [1.10823578]\n",
      "[9321.] [6611.98472798] [1.40971287]\n",
      "[656.] [697.62666993] [0.94033102]\n",
      "[43.198] [54.18642459] [0.79721075]\n",
      "[289.413] [227.56830976] [1.27176319]\n",
      "[35747.] [16106.30122911] [2.21944191]\n",
      "[3203.] [2456.22978491] [1.30403109]\n",
      "[9321.] [6611.98472798] [1.40971287]\n",
      "[8032.] [4033.4927227] [1.99132627]\n",
      "[109.926] [99.35257054] [1.10642331]\n",
      "[489.7] [404.99509118] [1.20915046]\n",
      "[439.002] [452.33037212] [0.97053399]\n",
      "[656.] [697.62666993] [0.94033102]\n",
      "[283.879] [273.17912381] [1.03916799]\n",
      "[109.926] [99.44341615] [1.10541255]\n",
      "[551.505] [425.62316179] [1.2957589]\n",
      "[19340.] [390.6801808] [49.50340701]\n",
      "[6436.] [2104.61638344] [3.05803948]\n",
      "[283.879] [256.15397396] [1.10823578]\n",
      "[461.554] [450.76284489] [1.02393976]\n",
      "[286.744] [244.70597209] [1.17178995]\n",
      "[8032.] [3113.69565183] [2.57957132]\n",
      "[148.222] [128.26831393] [1.15556208]\n",
      "[8032.] [4033.4927227] [1.99132627]\n",
      "[95.87] [95.01448985] [1.009004]\n",
      "[89.093] [95.76153739] [0.93036309]\n",
      "[8032.] [3113.69565183] [2.57957132]\n",
      "[148.222] [128.26831393] [1.15556208]\n",
      "[557.8] [715.311482] [0.77980015]\n",
      "[29329.] [14544.8139498] [2.01645756]\n",
      "[89.093] [87.63867398] [1.01659457]\n",
      "[43.198] [54.18642459] [0.79721075]\n",
      "[472.1] [406.87896845] [1.1602959]\n",
      "[109.926] [99.35257054] [1.10642331]\n",
      "[41.981] [49.46878853] [0.8486361]\n",
      "[19340.] [390.6801808] [49.50340701]\n",
      "[95.87] [103.72530606] [0.92426818]\n",
      "[89.093] [97.08574886] [0.9176733]\n",
      "[433.7] [46.54139993] [9.31858519]\n",
      "[30.319] [36.50561373] [0.8305298]\n",
      "[89.093] [86.72256031] [1.0273336]\n",
      "[41.981] [44.18346337] [0.95015186]\n"
     ]
    }
   ],
   "source": [
    "for i in range(100):\n",
    "    r = random.randrange(0, X[1].shape[1])\n",
    "    x, y = X[1][[r]], Y[1][[r]]\n",
    "#     print(x[:, -1], y)\n",
    "    \n",
    "    pred = xgbmodel2.predict(x)[0] + x[:, -1]\n",
    "    y = y + x[:, -1]\n",
    "    pred = np.exp(pred) - np.exp(1)\n",
    "    y = np.exp(y) - np.exp(1)\n",
    "    \n",
    "#     print()\n",
    "#     print(pred)\n",
    "\n",
    "    \n",
    "    \n",
    "#     pred = x[0][-1] * np.exp(pred)\n",
    "    \n",
    "    print(y, pred, y / pred)"
   ]
  },
  {
   "cell_type": "code",
   "execution_count": null,
   "metadata": {},
   "outputs": [],
   "source": []
  }
 ],
 "metadata": {
  "kernelspec": {
   "display_name": "Python 3",
   "language": "python",
   "name": "python3"
  },
  "language_info": {
   "codemirror_mode": {
    "name": "ipython",
    "version": 3
   },
   "file_extension": ".py",
   "mimetype": "text/x-python",
   "name": "python",
   "nbconvert_exporter": "python",
   "pygments_lexer": "ipython3",
   "version": "3.7.3"
  }
 },
 "nbformat": 4,
 "nbformat_minor": 2
}
